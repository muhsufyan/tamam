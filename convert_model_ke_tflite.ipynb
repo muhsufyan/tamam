{
  "nbformat": 4,
  "nbformat_minor": 0,
  "metadata": {
    "colab": {
      "name": "convert model ke tflite.ipynb",
      "provenance": [],
      "collapsed_sections": [],
      "authorship_tag": "ABX9TyP4JnxxissXgMvJUCYkoeHO",
      "include_colab_link": true
    },
    "kernelspec": {
      "name": "python3",
      "display_name": "Python 3"
    },
    "language_info": {
      "name": "python"
    }
  },
  "cells": [
    {
      "cell_type": "markdown",
      "metadata": {
        "id": "view-in-github",
        "colab_type": "text"
      },
      "source": [
        "<a href=\"https://colab.research.google.com/github/muhsufyan/tamam/blob/main/convert_model_ke_tflite.ipynb\" target=\"_parent\"><img src=\"https://colab.research.google.com/assets/colab-badge.svg\" alt=\"Open In Colab\"/></a>"
      ]
    },
    {
      "cell_type": "markdown",
      "metadata": {
        "id": "vzwL0gqPBD4l"
      },
      "source": [
        "load modelnya"
      ]
    },
    {
      "cell_type": "code",
      "metadata": {
        "id": "Blys8HlEBA9W"
      },
      "source": [
        "import tensorflow as tf\n",
        "model_load = tf.keras.models.load_model('/content/drive/MyDrive/ai/dataset/model90_e10.h5')\n",
        "print('loaded')"
      ],
      "execution_count": null,
      "outputs": []
    },
    {
      "cell_type": "markdown",
      "metadata": {
        "id": "fQuTV9BABJLL"
      },
      "source": [
        "convert model ke tflite"
      ]
    },
    {
      "cell_type": "code",
      "metadata": {
        "id": "P5w8UXRbBLd0"
      },
      "source": [
        "from tensorflow import lite\n",
        "# buat converter\n",
        "converter = lite.TFLiteConverter.from_keras_model(model_load)\n",
        "\n",
        "# convert modelnya\n",
        "tfmodel = converter.convert()\n",
        "\n",
        "# buat file tflite nya\n",
        "open('tamam.tflite','wb').write(tfmodel)"
      ],
      "execution_count": null,
      "outputs": []
    }
  ]
}